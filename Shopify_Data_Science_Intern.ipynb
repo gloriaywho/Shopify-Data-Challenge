{
  "nbformat": 4,
  "nbformat_minor": 0,
  "metadata": {
    "colab": {
      "name": "Shopify-Data-Science-Intern",
      "provenance": [],
      "collapsed_sections": []
    },
    "kernelspec": {
      "name": "python3",
      "display_name": "Python 3"
    },
    "language_info": {
      "name": "python"
    }
  },
  "cells": [
    {
      "cell_type": "markdown",
      "metadata": {
        "id": "3TOyM5gH2Xol"
      },
      "source": [
        "## Setup"
      ]
    },
    {
      "cell_type": "code",
      "metadata": {
        "id": "sArXa2Bg5_o-"
      },
      "source": [
        "import pandas as pd\n",
        "import numpy as np"
      ],
      "execution_count": null,
      "outputs": []
    },
    {
      "cell_type": "markdown",
      "metadata": {
        "id": "S04RCZqk2oBj"
      },
      "source": [
        "# Question 1\n",
        "Please find the answers to the questions at the end of this section, after the exploratory data analysis. "
      ]
    },
    {
      "cell_type": "markdown",
      "metadata": {
        "id": "7gR6LCZt6GJY"
      },
      "source": [
        "## Exploratory Data Analysis"
      ]
    },
    {
      "cell_type": "code",
      "metadata": {
        "colab": {
          "base_uri": "https://localhost:8080/",
          "height": 204
        },
        "id": "IaTa9VU35sGx",
        "outputId": "f7f57620-6a0b-418a-b31a-5ea632a2abdc"
      },
      "source": [
        "# import data\n",
        "orders = pd.read_csv('shopify_data.csv')\n",
        "orders.head()"
      ],
      "execution_count": null,
      "outputs": [
        {
          "output_type": "execute_result",
          "data": {
            "text/html": [
              "<div>\n",
              "<style scoped>\n",
              "    .dataframe tbody tr th:only-of-type {\n",
              "        vertical-align: middle;\n",
              "    }\n",
              "\n",
              "    .dataframe tbody tr th {\n",
              "        vertical-align: top;\n",
              "    }\n",
              "\n",
              "    .dataframe thead th {\n",
              "        text-align: right;\n",
              "    }\n",
              "</style>\n",
              "<table border=\"1\" class=\"dataframe\">\n",
              "  <thead>\n",
              "    <tr style=\"text-align: right;\">\n",
              "      <th></th>\n",
              "      <th>order_id</th>\n",
              "      <th>shop_id</th>\n",
              "      <th>user_id</th>\n",
              "      <th>order_amount</th>\n",
              "      <th>total_items</th>\n",
              "      <th>payment_method</th>\n",
              "      <th>created_at</th>\n",
              "    </tr>\n",
              "  </thead>\n",
              "  <tbody>\n",
              "    <tr>\n",
              "      <th>0</th>\n",
              "      <td>1</td>\n",
              "      <td>53</td>\n",
              "      <td>746</td>\n",
              "      <td>224</td>\n",
              "      <td>2</td>\n",
              "      <td>cash</td>\n",
              "      <td>2017-03-13 12:36:56</td>\n",
              "    </tr>\n",
              "    <tr>\n",
              "      <th>1</th>\n",
              "      <td>2</td>\n",
              "      <td>92</td>\n",
              "      <td>925</td>\n",
              "      <td>90</td>\n",
              "      <td>1</td>\n",
              "      <td>cash</td>\n",
              "      <td>2017-03-03 17:38:52</td>\n",
              "    </tr>\n",
              "    <tr>\n",
              "      <th>2</th>\n",
              "      <td>3</td>\n",
              "      <td>44</td>\n",
              "      <td>861</td>\n",
              "      <td>144</td>\n",
              "      <td>1</td>\n",
              "      <td>cash</td>\n",
              "      <td>2017-03-14 4:23:56</td>\n",
              "    </tr>\n",
              "    <tr>\n",
              "      <th>3</th>\n",
              "      <td>4</td>\n",
              "      <td>18</td>\n",
              "      <td>935</td>\n",
              "      <td>156</td>\n",
              "      <td>1</td>\n",
              "      <td>credit_card</td>\n",
              "      <td>2017-03-26 12:43:37</td>\n",
              "    </tr>\n",
              "    <tr>\n",
              "      <th>4</th>\n",
              "      <td>5</td>\n",
              "      <td>18</td>\n",
              "      <td>883</td>\n",
              "      <td>156</td>\n",
              "      <td>1</td>\n",
              "      <td>credit_card</td>\n",
              "      <td>2017-03-01 4:35:11</td>\n",
              "    </tr>\n",
              "  </tbody>\n",
              "</table>\n",
              "</div>"
            ],
            "text/plain": [
              "   order_id  shop_id  user_id  ...  total_items  payment_method           created_at\n",
              "0         1       53      746  ...            2            cash  2017-03-13 12:36:56\n",
              "1         2       92      925  ...            1            cash  2017-03-03 17:38:52\n",
              "2         3       44      861  ...            1            cash   2017-03-14 4:23:56\n",
              "3         4       18      935  ...            1     credit_card  2017-03-26 12:43:37\n",
              "4         5       18      883  ...            1     credit_card   2017-03-01 4:35:11\n",
              "\n",
              "[5 rows x 7 columns]"
            ]
          },
          "metadata": {
            "tags": []
          },
          "execution_count": 2
        }
      ]
    },
    {
      "cell_type": "code",
      "metadata": {
        "colab": {
          "base_uri": "https://localhost:8080/",
          "height": 328
        },
        "id": "MDaURkdwsmqc",
        "outputId": "a5dcddf8-7c1f-4e6e-da2d-4158c9aa686f"
      },
      "source": [
        "# look into how many sneakers customers are ordering at once\n",
        "order_count = orders[['order_id', 'total_items']].groupby('total_items').count()\n",
        "order_count.columns = ['num_orders']\n",
        "order_count\n",
        "# most orders only have up to 3 sneakers"
      ],
      "execution_count": null,
      "outputs": [
        {
          "output_type": "execute_result",
          "data": {
            "text/html": [
              "<div>\n",
              "<style scoped>\n",
              "    .dataframe tbody tr th:only-of-type {\n",
              "        vertical-align: middle;\n",
              "    }\n",
              "\n",
              "    .dataframe tbody tr th {\n",
              "        vertical-align: top;\n",
              "    }\n",
              "\n",
              "    .dataframe thead th {\n",
              "        text-align: right;\n",
              "    }\n",
              "</style>\n",
              "<table border=\"1\" class=\"dataframe\">\n",
              "  <thead>\n",
              "    <tr style=\"text-align: right;\">\n",
              "      <th></th>\n",
              "      <th>num_orders</th>\n",
              "    </tr>\n",
              "    <tr>\n",
              "      <th>total_items</th>\n",
              "      <th></th>\n",
              "    </tr>\n",
              "  </thead>\n",
              "  <tbody>\n",
              "    <tr>\n",
              "      <th>1</th>\n",
              "      <td>1830</td>\n",
              "    </tr>\n",
              "    <tr>\n",
              "      <th>2</th>\n",
              "      <td>1832</td>\n",
              "    </tr>\n",
              "    <tr>\n",
              "      <th>3</th>\n",
              "      <td>941</td>\n",
              "    </tr>\n",
              "    <tr>\n",
              "      <th>4</th>\n",
              "      <td>293</td>\n",
              "    </tr>\n",
              "    <tr>\n",
              "      <th>5</th>\n",
              "      <td>77</td>\n",
              "    </tr>\n",
              "    <tr>\n",
              "      <th>6</th>\n",
              "      <td>9</td>\n",
              "    </tr>\n",
              "    <tr>\n",
              "      <th>8</th>\n",
              "      <td>1</td>\n",
              "    </tr>\n",
              "    <tr>\n",
              "      <th>2000</th>\n",
              "      <td>17</td>\n",
              "    </tr>\n",
              "  </tbody>\n",
              "</table>\n",
              "</div>"
            ],
            "text/plain": [
              "             num_orders\n",
              "total_items            \n",
              "1                  1830\n",
              "2                  1832\n",
              "3                   941\n",
              "4                   293\n",
              "5                    77\n",
              "6                     9\n",
              "8                     1\n",
              "2000                 17"
            ]
          },
          "metadata": {
            "tags": []
          },
          "execution_count": 44
        }
      ]
    },
    {
      "cell_type": "code",
      "metadata": {
        "colab": {
          "base_uri": "https://localhost:8080/",
          "height": 283
        },
        "id": "qleZjgt4_yyQ",
        "outputId": "136efc16-dadf-4cdf-ee10-279c45698a35"
      },
      "source": [
        "# look into how much customers are spending on an order\n",
        "orders.boxplot('order_amount')"
      ],
      "execution_count": null,
      "outputs": [
        {
          "output_type": "execute_result",
          "data": {
            "text/plain": [
              "<matplotlib.axes._subplots.AxesSubplot at 0x7fa2c0b26a10>"
            ]
          },
          "metadata": {
            "tags": []
          },
          "execution_count": 59
        },
        {
          "output_type": "display_data",
          "data": {
            "image/png": "[encoded data removed]",
            "text/plain": [
              "<Figure size 432x288 with 1 Axes>"
            ]
          },
          "metadata": {
            "tags": [],
            "needs_background": "light"
          }
        }
      ]
    },
    {
      "cell_type": "code",
      "metadata": {
        "colab": {
          "base_uri": "https://localhost:8080/",
          "height": 235
        },
        "id": "0FOg_7ifVYtJ",
        "outputId": "6aaab116-aa6f-4f39-819a-0b2d4655548b"
      },
      "source": [
        "# boxplot shows some store(s) are ordering significantly more than others, investigate\n",
        "shop_amt = orders[['shop_id', 'order_amount', 'total_items']].groupby('shop_id').sum().sort_values('order_amount', ascending = False)\n",
        "shop_numorder = orders[['shop_id', 'order_id']].groupby('shop_id').count()\n",
        "shop_numorder.columns = ['num_orders']\n",
        "shop_orders = shop_amt.join(shop_numorder, on = 'shop_id')\n",
        "shop_orders.head()\n",
        "# the top two shops look suspicious "
      ],
      "execution_count": null,
      "outputs": [
        {
          "output_type": "execute_result",
          "data": {
            "text/html": [
              "<div>\n",
              "<style scoped>\n",
              "    .dataframe tbody tr th:only-of-type {\n",
              "        vertical-align: middle;\n",
              "    }\n",
              "\n",
              "    .dataframe tbody tr th {\n",
              "        vertical-align: top;\n",
              "    }\n",
              "\n",
              "    .dataframe thead th {\n",
              "        text-align: right;\n",
              "    }\n",
              "</style>\n",
              "<table border=\"1\" class=\"dataframe\">\n",
              "  <thead>\n",
              "    <tr style=\"text-align: right;\">\n",
              "      <th></th>\n",
              "      <th>order_amount</th>\n",
              "      <th>total_items</th>\n",
              "      <th>num_orders</th>\n",
              "    </tr>\n",
              "    <tr>\n",
              "      <th>shop_id</th>\n",
              "      <th></th>\n",
              "      <th></th>\n",
              "      <th></th>\n",
              "    </tr>\n",
              "  </thead>\n",
              "  <tbody>\n",
              "    <tr>\n",
              "      <th>42</th>\n",
              "      <td>11990176</td>\n",
              "      <td>34063</td>\n",
              "      <td>51</td>\n",
              "    </tr>\n",
              "    <tr>\n",
              "      <th>78</th>\n",
              "      <td>2263800</td>\n",
              "      <td>88</td>\n",
              "      <td>46</td>\n",
              "    </tr>\n",
              "    <tr>\n",
              "      <th>89</th>\n",
              "      <td>23128</td>\n",
              "      <td>118</td>\n",
              "      <td>61</td>\n",
              "    </tr>\n",
              "    <tr>\n",
              "      <th>81</th>\n",
              "      <td>22656</td>\n",
              "      <td>128</td>\n",
              "      <td>59</td>\n",
              "    </tr>\n",
              "    <tr>\n",
              "      <th>6</th>\n",
              "      <td>22627</td>\n",
              "      <td>121</td>\n",
              "      <td>59</td>\n",
              "    </tr>\n",
              "  </tbody>\n",
              "</table>\n",
              "</div>"
            ],
            "text/plain": [
              "         order_amount  total_items  num_orders\n",
              "shop_id                                       \n",
              "42           11990176        34063          51\n",
              "78            2263800           88          46\n",
              "89              23128          118          61\n",
              "81              22656          128          59\n",
              "6               22627          121          59"
            ]
          },
          "metadata": {
            "tags": []
          },
          "execution_count": 5
        }
      ]
    },
    {
      "cell_type": "code",
      "metadata": {
        "colab": {
          "base_uri": "https://localhost:8080/"
        },
        "id": "tTrh7srbcmOe",
        "outputId": "73c92322-25ed-4aee-fe3c-33ed550bf92f"
      },
      "source": [
        "# investigate shop_id = 42, as it has a high order_amount\n",
        "shop42 = orders[orders['shop_id'] == 42].sort_values('order_amount', ascending = False)\n",
        "shop42.head(60)\n",
        "shop42[shop42['user_id'] == 607]['order_id'].count()\n",
        "# same user (id=607) has ordered 2000 items on 17 times at exactly 4AM; potentially a technical issue\n",
        "# the order amount is 704000, which is the maximum value we saw earlier"
      ],
      "execution_count": null,
      "outputs": [
        {
          "output_type": "execute_result",
          "data": {
            "text/plain": [
              "17"
            ]
          },
          "metadata": {
            "tags": []
          },
          "execution_count": 33
        }
      ]
    },
    {
      "cell_type": "code",
      "metadata": {
        "id": "5jkF0gXviDBN"
      },
      "source": [
        "# investigate shop_id = 78, as its order_amount is high compared to total_items and num_orders\n",
        "shop78 = orders[orders['shop_id'] == 78]\n",
        "shop78['order_amount'] / shop78['total_items']\n",
        "# the shop is charging $25725 for each sneaker, which raises a flag since sneakers are \"relatively affordable\"\n",
        "# perhaps an error where they wanted to charge 257.25, or a bigger issue at hand"
      ],
      "execution_count": null,
      "outputs": []
    },
    {
      "cell_type": "code",
      "metadata": {
        "colab": {
          "base_uri": "https://localhost:8080/"
        },
        "id": "edDC-5ZMq9Na",
        "outputId": "e5fa19e3-a32b-4693-b23f-f912bc67bcff"
      },
      "source": [
        "# find median order value\n",
        "orders['order_amount'].median()"
      ],
      "execution_count": null,
      "outputs": [
        {
          "output_type": "execute_result",
          "data": {
            "text/plain": [
              "284.0"
            ]
          },
          "metadata": {
            "tags": []
          },
          "execution_count": 35
        }
      ]
    },
    {
      "cell_type": "markdown",
      "metadata": {
        "id": "y8UwXP_mCEuX"
      },
      "source": [
        "## Answers\n",
        "### a.\tThink about what could be going wrong with our calculation. Think about a better way to evaluate this data.  \n",
        "\n",
        "The given AOV was calculated by taking the mean of the order amount, and exploratory work on the data showed there were orders with significantly high total amounts. Since we have no further information to help us decide whether these outliers should be removed, it would be more insightful to explore how much the shops are charging for the same sneaker and how many sneakers they are selling.\n",
        "\n",
        "### b.\tWhat metric would you report for this dataset?  \n",
        "If we are interested in all orders, I would report the median of the order amount. This is especially because of the two shops we found with high order amounts and high item cost which affect the distribution of the data. \n",
        "\n",
        "If we are interested in finding suspicious activity or error detection, I would report the charging price of the sneaker. If this raises a flag for a shop, further investigation can be done by, for example, looking at how much the shop is selling and whether many orders are placed by a single user.\n",
        "\n",
        "\n",
        "### c.\tWhat is its value?\n",
        "The median order amount is 284.0. Each shop's sneaker price is below, note that the two most highest charging shops are the two shops we looked into earlier."
      ]
    },
    {
      "cell_type": "code",
      "metadata": {
        "colab": {
          "base_uri": "https://localhost:8080/",
          "height": 235
        },
        "id": "ezLQpM1wxRT-",
        "outputId": "c3d89584-6516-4e2e-bd02-44f34d924c88"
      },
      "source": [
        "# price of the sneaker, in decreasing order\n",
        "orders['price'] = orders['order_amount'] / orders['total_items']\n",
        "shop_price = orders.groupby('shop_id')[['price']].mean().sort_values('price', ascending=False)\n",
        "shop_price.head()"
      ],
      "execution_count": null,
      "outputs": [
        {
          "output_type": "execute_result",
          "data": {
            "text/html": [
              "<div>\n",
              "<style scoped>\n",
              "    .dataframe tbody tr th:only-of-type {\n",
              "        vertical-align: middle;\n",
              "    }\n",
              "\n",
              "    .dataframe tbody tr th {\n",
              "        vertical-align: top;\n",
              "    }\n",
              "\n",
              "    .dataframe thead th {\n",
              "        text-align: right;\n",
              "    }\n",
              "</style>\n",
              "<table border=\"1\" class=\"dataframe\">\n",
              "  <thead>\n",
              "    <tr style=\"text-align: right;\">\n",
              "      <th></th>\n",
              "      <th>price</th>\n",
              "    </tr>\n",
              "    <tr>\n",
              "      <th>shop_id</th>\n",
              "      <th></th>\n",
              "    </tr>\n",
              "  </thead>\n",
              "  <tbody>\n",
              "    <tr>\n",
              "      <th>78</th>\n",
              "      <td>25725.0</td>\n",
              "    </tr>\n",
              "    <tr>\n",
              "      <th>42</th>\n",
              "      <td>352.0</td>\n",
              "    </tr>\n",
              "    <tr>\n",
              "      <th>12</th>\n",
              "      <td>201.0</td>\n",
              "    </tr>\n",
              "    <tr>\n",
              "      <th>89</th>\n",
              "      <td>196.0</td>\n",
              "    </tr>\n",
              "    <tr>\n",
              "      <th>99</th>\n",
              "      <td>195.0</td>\n",
              "    </tr>\n",
              "  </tbody>\n",
              "</table>\n",
              "</div>"
            ],
            "text/plain": [
              "           price\n",
              "shop_id         \n",
              "78       25725.0\n",
              "42         352.0\n",
              "12         201.0\n",
              "89         196.0\n",
              "99         195.0"
            ]
          },
          "metadata": {
            "tags": []
          },
          "execution_count": 60
        }
      ]
    },
    {
      "cell_type": "markdown",
      "metadata": {
        "id": "kRFSs0sTIJDf"
      },
      "source": [
        "# Question 2\n",
        "### a) 54\n",
        "> SELECT COUNT(*)  \n",
        "FROM Orders o JOIN Shippers s ON o.ShipperID = s.ShipperID  \n",
        "WHERE s.ShipperName = \"Speedy Express\";\n",
        "\n",
        "### b) Peacock\n",
        "> SELECT e.LastName, COUNT(*) as NUM_ORDERS  \n",
        "FROM Employees e JOIN Orders o ON e.EmployeeID = o.EmployeeID  \n",
        "GROUP BY o.EmployeeID  \n",
        "ORDER BY NUM_ORDERS DESC  \n",
        "LIMIT 1;  \n",
        "\n",
        "### c) Boston Crab Meat\t\n",
        "> SELECT ProductName, SUM(Quantity) as num_ordered  \n",
        "FROM Orders o JOIN Customers c ON o.CustomerID = c.CustomerID  \n",
        "  JOIN OrderDetails d ON o.OrderID = d.OrderID  \n",
        "  JOIN Products p ON d.ProductID = p.ProductID  \n",
        "WHERE c.Country = \"Germany\"  \n",
        "GROUP BY ProductName, d.ProductID  \n",
        "ORDER BY num_ordered DESC  \n",
        "LIMIT 1;"
      ]
    }
  ]
}